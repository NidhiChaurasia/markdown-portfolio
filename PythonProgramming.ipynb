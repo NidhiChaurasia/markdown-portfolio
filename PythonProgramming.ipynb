{
  "nbformat": 4,
  "nbformat_minor": 0,
  "metadata": {
    "colab": {
      "name": "Untitled3.ipynb",
      "provenance": [],
      "authorship_tag": "ABX9TyPnIcwRQqkt1JQ2gEYw+BIE",
      "include_colab_link": true
    },
    "kernelspec": {
      "name": "python3",
      "display_name": "Python 3"
    },
    "language_info": {
      "name": "python"
    }
  },
  "cells": [
    {
      "cell_type": "markdown",
      "metadata": {
        "id": "view-in-github",
        "colab_type": "text"
      },
      "source": [
        "<a href=\"https://colab.research.google.com/github/NidhiChaurasia/markdown-portfolio/blob/add-headers/PythonProgramming.ipynb\" target=\"_parent\"><img src=\"https://colab.research.google.com/assets/colab-badge.svg\" alt=\"Open In Colab\"/></a>"
      ]
    },
    {
      "cell_type": "code",
      "metadata": {
        "colab": {
          "base_uri": "https://localhost:8080/"
        },
        "id": "wwcbSdp4IpX1",
        "outputId": "0e167855-871d-4609-a17d-62912ffc08da"
      },
      "source": [
        "a = 10\n",
        "b = 20\n",
        "print(a+b)"
      ],
      "execution_count": 1,
      "outputs": [
        {
          "output_type": "stream",
          "text": [
            "30\n"
          ],
          "name": "stdout"
        }
      ]
    },
    {
      "cell_type": "code",
      "metadata": {
        "colab": {
          "base_uri": "https://localhost:8080/"
        },
        "id": "FWfVHjaDKdZd",
        "outputId": "a31c6e38-b21e-456a-c18a-ab6fbe2a18f7"
      },
      "source": [
        "a = 10\n",
        "b = 20\n",
        "if b>a:\n",
        "     print(b)\n",
        "else:\n",
        "     print(a)"
      ],
      "execution_count": 7,
      "outputs": [
        {
          "output_type": "stream",
          "text": [
            "20\n"
          ],
          "name": "stdout"
        }
      ]
    },
    {
      "cell_type": "code",
      "metadata": {
        "colab": {
          "base_uri": "https://localhost:8080/"
        },
        "id": "F6Nekd8tLizA",
        "outputId": "4a6931b2-69be-4f33-c60b-c84eda7303c2"
      },
      "source": [
        "h = 90\n",
        "z = 8\n",
        "d = (h+z)/2\n",
        "print (d)"
      ],
      "execution_count": 8,
      "outputs": [
        {
          "output_type": "stream",
          "text": [
            "49.0\n"
          ],
          "name": "stdout"
        }
      ]
    },
    {
      "cell_type": "code",
      "metadata": {
        "colab": {
          "base_uri": "https://localhost:8080/"
        },
        "id": "_QGPIprPMmiC",
        "outputId": "25c22119-68fa-4618-c2c8-e666f108f82f"
      },
      "source": [
        "a = int(input(\"Enter the value of your choice :\"))\n",
        "b = int(input(\"Enter the second value of your choice :a \"))\n",
        "++a\n",
        "--a\n",
        "++b\n",
        "--b\n",
        "print(a-b)\n",
        "print(a+b)\n",
        "print(a*b)\n",
        "print(a/b)\n",
        "print(a%b)\n"
      ],
      "execution_count": 17,
      "outputs": [
        {
          "output_type": "stream",
          "text": [
            "Enter the value of your choice :12\n",
            "Enter the second value of your choice :a 6\n",
            "6\n",
            "18\n",
            "72\n",
            "2.0\n",
            "0\n"
          ],
          "name": "stdout"
        }
      ]
    },
    {
      "cell_type": "code",
      "metadata": {
        "colab": {
          "base_uri": "https://localhost:8080/"
        },
        "id": "jzSu2ERLOttJ",
        "outputId": "5e1cf982-5486-4287-d8a1-ce3aed148a82"
      },
      "source": [
        "a = 1\n",
        "++a\n",
        "print(a)"
      ],
      "execution_count": 18,
      "outputs": [
        {
          "output_type": "stream",
          "text": [
            "1\n"
          ],
          "name": "stdout"
        }
      ]
    },
    {
      "cell_type": "code",
      "metadata": {
        "colab": {
          "base_uri": "https://localhost:8080/"
        },
        "id": "x8H8-DiyQF10",
        "outputId": "c1915309-a84a-468a-e0bb-38e839f8ec32"
      },
      "source": [
        "p = float(input(\"Enter initial principal balance :\"))\n",
        "r = float(input(\"Enter interest rate value :\"))\n",
        "t = float(input(\"Enter number of time periods elapsed :\"))\n",
        "amount = p*(1+r/100)**t\n",
        "compound_interest = amount - p\n",
        "print(\"Compound Interest\",compound_interest)\n",
        "#Another method to calculate Compound Interest\n",
        "#def compound_interest(principal,rate,time):\n",
        "#amount = principal * (pow((1 + rate / 100) , time))\n",
        "#CI = amount - principal\n",
        "#print(\"Compound interest is\" , CI)\n",
        "#compund_interest(10000, 10.25, 5)"
      ],
      "execution_count": 31,
      "outputs": [
        {
          "output_type": "stream",
          "text": [
            "Enter initial principal balance :1200\n",
            "Enter interest rate value :5.4\n",
            "Enter number of time periods elapsed :2\n",
            "Compound Interest 133.0992000000001\n"
          ],
          "name": "stdout"
        }
      ]
    },
    {
      "cell_type": "code",
      "metadata": {
        "colab": {
          "base_uri": "https://localhost:8080/"
        },
        "id": "iWQZe-iHYKa9",
        "outputId": "a2d50505-e58f-4143-df19-f033f9ebfcb6"
      },
      "source": [
        "a = int(input(\"Enter the value :\"))\n",
        "b = \"123\"\n",
        "b = int(b) #explicit type conversion in python\n",
        "c = a+b\n",
        "print(c)\n",
        "z = 30.49   #implicit type conversion in python\n",
        "k = 12\n",
        "print(z+k)"
      ],
      "execution_count": 34,
      "outputs": [
        {
          "output_type": "stream",
          "text": [
            "Enter the value :20\n",
            "143\n",
            "42.489999999999995\n"
          ],
          "name": "stdout"
        }
      ]
    },
    {
      "cell_type": "code",
      "metadata": {
        "colab": {
          "base_uri": "https://localhost:8080/"
        },
        "id": "mnFXKHB_Zh8M",
        "outputId": "7bc22a5a-4946-4d2b-a72c-4c047833fd2b"
      },
      "source": [
        "p = int(input(\"Enter the principal value :\"))\n",
        "r = int(input(\"Enter the rate value :\"))\n",
        "t = int(input(\"Enter the time :\"))\n",
        "simple_interest = p*r*t/100\n",
        "print(\"Simple interest is :\",simple_interest)"
      ],
      "execution_count": 36,
      "outputs": [
        {
          "output_type": "stream",
          "text": [
            "Enter the principal value :10000\n",
            "Enter the rate value :5\n",
            "Enter the time :5\n",
            "Simple interest is : 2500.0\n"
          ],
          "name": "stdout"
        }
      ]
    },
    {
      "cell_type": "code",
      "metadata": {
        "colab": {
          "base_uri": "https://localhost:8080/"
        },
        "id": "P16poMdPaZsz",
        "outputId": "62947c2f-c8d9-4e27-a374-22ced5a6e787"
      },
      "source": [
        "a = int(input(\"Enter the digit to print the table :\"))\n",
        "for i in range(1,11):\n",
        "    print(a,'*',i,'=', a*i)"
      ],
      "execution_count": 43,
      "outputs": [
        {
          "output_type": "stream",
          "text": [
            "Enter the digit to print the table :2\n",
            "2 * 1 = 2\n",
            "2 * 2 = 4\n",
            "2 * 3 = 6\n",
            "2 * 4 = 8\n",
            "2 * 5 = 10\n",
            "2 * 6 = 12\n",
            "2 * 7 = 14\n",
            "2 * 8 = 16\n",
            "2 * 9 = 18\n",
            "2 * 10 = 20\n"
          ],
          "name": "stdout"
        }
      ]
    },
    {
      "cell_type": "code",
      "metadata": {
        "colab": {
          "base_uri": "https://localhost:8080/"
        },
        "id": "21CaBL0zcCa9",
        "outputId": "f3e5ea90-f033-4530-fadd-20696aca4af8"
      },
      "source": [
        "n = int(input(\"Enter the no. to calculate the factorial of :\"))\n",
        "fact = 1\n",
        "if n < 0:\n",
        "  print(\"FACTORIAL DOESN'T EXIST !\")\n",
        "elif n == 0:\n",
        "  print(\"FACTORIAL OF 0 IS 1\")\n",
        "else:\n",
        "   for i in range(1,n + 1):\n",
        "         fact = fact * i\n",
        "print(\"The factorial of \",n,\"is\",fact)\n"
      ],
      "execution_count": 46,
      "outputs": [
        {
          "output_type": "stream",
          "text": [
            "Enter the no. to calculate the factorial of :5\n",
            "The factorial of  5 is 120\n"
          ],
          "name": "stdout"
        }
      ]
    },
    {
      "cell_type": "code",
      "metadata": {
        "colab": {
          "base_uri": "https://localhost:8080/"
        },
        "id": "Mly5VhmRhRid",
        "outputId": "f24f6452-3f24-4961-b6a4-1073b9ab7eba"
      },
      "source": [
        "#Area of the Circle\n",
        "r = float(input(\"Enter radius of the circle :\"))\n",
        "pi = 3.142\n",
        "area_ofcircle = pi*r**2\n",
        "print(\"Area of circle is :\",area_ofcircle)"
      ],
      "execution_count": 53,
      "outputs": [
        {
          "output_type": "stream",
          "text": [
            "Enter radius of the circle :2\n",
            "Area of circle is : 12.568\n"
          ],
          "name": "stdout"
        }
      ]
    }
  ]
}